{
 "cells": [
  {
   "cell_type": "markdown",
   "metadata": {},
   "source": [
    "# `DSML_WS_02` - Introduction to Python Library Management & `NumPy`"
   ]
  },
  {
   "cell_type": "markdown",
   "metadata": {},
   "source": [
    "Please work on the following tasks **before** the second workshop session."
   ]
  },
  {
   "cell_type": "markdown",
   "metadata": {},
   "source": [
    "## 1. Programming a simple calculator in Python"
   ]
  },
  {
   "cell_type": "markdown",
   "metadata": {},
   "source": [
    "Last week, you made yourself familiar with Python, getting to know about data structures like values, lists and dictionaries, explored for loops and if statements, and learned how to define functions. To put your knowledge of basic Python to the test, write a properly documented python function that can perform the taks of a simple calculator with the following behaviour:\n",
    "\n",
    "1. The user shall pass the desired mathematical operation (plus, minus, divide, multiply) and two numbers\n",
    "\n",
    "2. The result shall be calculated and printed\n",
    "\n",
    "3. If the input for the mathematical operation is not covered by the list from above, print \"Please correct your input\"\n",
    "\n",
    "**You should use the following elements:** \n",
    "\n",
    "- If/elif/else statement\n",
    "- Functions\n",
    "- Mathematical expressions"
   ]
  },
  {
   "cell_type": "code",
   "execution_count": 17,
   "metadata": {},
   "outputs": [],
   "source": [
    "def simple_calc(first_num, ops, second_num):\n",
    "    \"\"\"\n",
    "    Perform a mathematical operation between two numbers\n",
    "    ...\n",
    "    \n",
    "    Arguments\n",
    "    ---------\n",
    "    first_num     : int/float\n",
    "                    first number in calculation\n",
    "                    \n",
    "    ops           : str\n",
    "                    mathematical operation; ops=[\"plus\", \"minus\", \"multiply\", \"divide\"]\n",
    "    \n",
    "    second_num    : int/float\n",
    "                    second number in calculation\n",
    "    \n",
    "    Returns\n",
    "    -------\n",
    "    result : str\n",
    "            Operation and results of operation as string\n",
    "    \"\"\"\n",
    "    #### your code below ####\n",
    "    if ops == \"plus\":\n",
    "        result = first_num + second_num\n",
    "        return f\"{first_num} + {second_num} = {result}\"\n",
    "    elif ops == \"minus\":\n",
    "        result = first_num - second_num\n",
    "        return f\"{first_num} - {second_num} = {result}\"\n",
    "    elif ops == \"multiply\":\n",
    "        result = first_num * second_num\n",
    "        return f\"{first_num} * {second_num} = {result}\"\n",
    "    elif ops == \"divide\":\n",
    "        if second_num == 0:\n",
    "            return \"Error: Division by zero not allowed\"\n",
    "        result = first_num / second_num\n",
    "        return f\"{first_num} / {second_num} = {result}\"\n",
    "    else:\n",
    "        return \"Error: Invalid operation\""
   ]
  },
  {
   "cell_type": "code",
   "execution_count": 15,
   "metadata": {},
   "outputs": [
    {
     "name": "stdout",
     "output_type": "stream",
     "text": [
      "10 - 5 = 5\n",
      "10 + 5 = 15\n",
      "10 * 5 = 50\n",
      "10 / 3 = 3.3333333333333335\n",
      "Error: Invalid operation\n"
     ]
    }
   ],
   "source": [
    "# try out your calculator by calling the simple_calc function with different argument values\n",
    "print(simple_calc(10, \"minus\", 5))   \n",
    "print(simple_calc(10, \"plus\", 5))   \n",
    "print(simple_calc(10, \"multiply\", 5))   \n",
    "print(simple_calc(10, \"divide\", 3))   \n",
    "print(simple_calc(10, \"ma\", 5))   "
   ]
  },
  {
   "cell_type": "markdown",
   "metadata": {},
   "source": [
    "## 2. Getting started with NumPy"
   ]
  },
  {
   "cell_type": "markdown",
   "metadata": {},
   "source": [
    "This week, we will be exploring our first Python package, namely NumPy. Get prepared for the workshop by completing the below steps:"
   ]
  },
  {
   "cell_type": "markdown",
   "metadata": {},
   "source": [
    "In order to use NumPy's capabilities, we first have to import it. Do this by running the following cell. We use the `as` keyword so we can use an abbreviation when calling NumPy methods."
   ]
  },
  {
   "cell_type": "code",
   "execution_count": 21,
   "metadata": {},
   "outputs": [],
   "source": [
    "import numpy as np"
   ]
  },
  {
   "cell_type": "markdown",
   "metadata": {},
   "source": [
    "The core structure of NumPy is the N-dimensional array object. You can create arrays using `np.array([..,..,..])`. Do the following:\n",
    "1. Create a list of 5 integers and assign it to a variable called `lst`.\n",
    "2. Use `lst` to create a NumPy array, and assign this array to a variable called `my_first_array`.\n",
    "3. Verify that the type of `my_first_array` is np.array.\n",
    "4. Create a second array, consisting of the first 3 numbers from `my_first_array`, and assign it to a variable called `my_second_array` (tip: selecting a subset of elements from arrays works similarly to lists).\n",
    "5. Create a third array, which contains each number from `my_second_array` multiplied by 3, and assign it to a variable called `my_third_array` (tip: thinking about list operations from last week will help you here once again)."
   ]
  },
  {
   "cell_type": "code",
   "execution_count": 53,
   "metadata": {},
   "outputs": [
    {
     "name": "stdout",
     "output_type": "stream",
     "text": [
      "<class 'numpy.ndarray'>\n",
      "my_first_array: [1 2 3 4 5]\n",
      "my_second_array: [1 2 3]\n",
      "my_third_array: [-2 -1  0]\n"
     ]
    }
   ],
   "source": [
    "# your code here\n",
    "\n",
    "# Step 1\n",
    "lst = [1, 2, 3, 4, 5]\n",
    "\n",
    "# Step 2\n",
    "my_first_array = np.array(lst)\n",
    "\n",
    "# Step 3\n",
    "print(type(my_first_array))\n",
    "\n",
    "# Step 4\n",
    "my_second_array = my_first_array[:3] #[i:j:k]\n",
    "\n",
    "# Step 5\n",
    "my_third_array = my_second_array - 3\n",
    "\n",
    "#Print the arrays to check\n",
    "print(\"my_first_array:\", my_first_array)\n",
    "print(\"my_second_array:\", my_second_array)\n",
    "print(\"my_third_array:\", my_third_array)"
   ]
  },
  {
   "cell_type": "markdown",
   "metadata": {},
   "source": [
    "Finally, let's combine `my_second_array` and `my_third_array`. We can use the functions np.hstack((`first_array`,`second_array`)) or np.vstack((`first_array`,`second_array`)) for this. Combine `my_second_array` and `my_third_array` using both functions. How does the output differ? Can I also use both functions to combine `my_first_array`and `my_second_array`?"
   ]
  },
  {
   "cell_type": "code",
   "execution_count": 59,
   "metadata": {},
   "outputs": [
    {
     "name": "stdout",
     "output_type": "stream",
     "text": [
      "[ 1  2  3 -2 -1  0]\n",
      "[[ 1  2  3]\n",
      " [-2 -1  0]]\n",
      "[1 2 3 4 5 1 2 3]\n"
     ]
    }
   ],
   "source": [
    "# your code here\n",
    "combined_array =  np.hstack((my_second_array,my_third_array))\n",
    "print (combined_array)\n",
    "\n",
    "combined_array_2 = np.vstack((my_second_array, my_third_array))\n",
    "print (combined_array_2)\n",
    "\n",
    "combined_array_3 = np.hstack((my_first_array,my_second_array))\n",
    "print (combined_array_3)\n",
    "\n",
    "#vstack won't work for arrays of differing row lengths, since shape mismatch"
   ]
  },
  {
   "cell_type": "code",
   "execution_count": null,
   "metadata": {},
   "outputs": [],
   "source": []
  }
 ],
 "metadata": {
  "kernelspec": {
   "display_name": "Python [conda env:base] *",
   "language": "python",
   "name": "conda-base-py"
  },
  "language_info": {
   "codemirror_mode": {
    "name": "ipython",
    "version": 3
   },
   "file_extension": ".py",
   "mimetype": "text/x-python",
   "name": "python",
   "nbconvert_exporter": "python",
   "pygments_lexer": "ipython3",
   "version": "3.12.7"
  }
 },
 "nbformat": 4,
 "nbformat_minor": 4
}
