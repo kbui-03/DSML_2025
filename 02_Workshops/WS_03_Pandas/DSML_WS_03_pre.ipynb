{
 "cells": [
  {
   "cell_type": "markdown",
   "metadata": {},
   "source": [
    "# `DSML_WS_03` - Introduction to Pandas"
   ]
  },
  {
   "cell_type": "markdown",
   "metadata": {},
   "source": [
    "Please work on the following tasks **before** the third workshop session."
   ]
  },
  {
   "cell_type": "markdown",
   "metadata": {},
   "source": [
    "## 1. Working with student grades in NumPy"
   ]
  },
  {
   "cell_type": "markdown",
   "metadata": {},
   "source": [
    "Last week, you made yourself familiar with NumPy. Let's check your NumPy knowledge using a small case.\n",
    "\n",
    "Imagine you are the teacher of a class of 15 students. During the year, the class has written 3 tests, each with a maximum of 100 points. You want to summarize the students' performances using NumPy.\n",
    "\n",
    "1. Simulate the described case by creating a two-dimensional NumPy array with each row representing a student and each column representing a test. Generate random scores for each student and test between 0 and 100, and assign the array to a variable called `student_scores`.\n",
    "2. Oops! You completely forgot Thomas, who joined the class during the school year after the first test. Thomas' score for the second test was 87, and 93 for the third test.\n",
    "    - Since Thomas does not have a score for the first test, you want to simply use the average score of all other students. Calculate this and assign it to a variable called `avg_first_test`. (Hint: array slicing and the function np.mean() might be helpful here)\n",
    "    - Add Thomas using `avg_first_test` as his first test score and his actual second and third test scores to `student_scores`.\n",
    "3. You want to generate the sum of the scores from all three tests for each student. Do this using a matrix multiplication and save the resulting array to a variable called `student_totals`.\n",
    "4. Finally, you want to transform the total scores in `student_totals` to a percentage of maximum available points. Assign this array to a variable called `student_pct`."
   ]
  },
  {
   "cell_type": "code",
   "execution_count": null,
   "metadata": {},
   "outputs": [],
   "source": [
    "# your code here\n",
    "import numpy as np\n",
    "\n",
    "students_scores = np.random.randint(0, 101, size=(15, 3))\n",
    "print(students_scores)\n",
    "\n",
    "# Calculate the average score for test 1 of each student\n",
    "average_test1 = np.mean(students_scores[:, 0])\n",
    "print(\"Average score for test 1:\", average_test1)\n",
    "\n",
    "#Add Thomas as a new row to student_scores\n",
    "thomas_scores = np.array([[average_test1, 87, 93]])\n",
    "students_scores_thomas = np.vstack((students_scores, thomas_scores))\n",
    "print(students_scores_thomas)\n",
    "\n",
    "#Sum of all scores for each student\n",
    "student_totals = np.sum(students_scores_thomas, axis=1)\n",
    "print(\"Sum of all scores for each student:\", student_totals)\n",
    "\n",
    "# Total scores as percentage of maximum possible score\n",
    "student_pct = student_totals / 300 * 100\n",
    "print(\"Total scores as percentage of maximum possible score:\", student_pct)"
   ]
  },
  {
   "cell_type": "markdown",
   "metadata": {},
   "source": [
    "## 2. Getting started with Pandas"
   ]
  },
  {
   "cell_type": "markdown",
   "metadata": {},
   "source": [
    "This week, we will be exploring Pandas - a core package for working with data in Python. You can think of Pandas as enhanced versions of NumPy arrays. Let's see why.\n",
    "\n",
    "As always, we first have to import pandas to use its functionalities within this Jupyter notebook. Pandas is commonly abbreviated using pd."
   ]
  },
  {
   "cell_type": "code",
   "execution_count": 10,
   "metadata": {},
   "outputs": [],
   "source": [
    "import pandas as pd"
   ]
  },
  {
   "cell_type": "markdown",
   "metadata": {},
   "source": [
    "The Pandas equivalent to a one-dimensional array is a Series object, which you can create just like arrays, but use pd.Series instead of np.array. Let's stick with the student grade example from Task 1, but focus on only five students: Helena, Tom, Nina, Sam and Kim, who are 15, 15, 16, 17 and 16 years old, and scored 75, 69, 87, 88, and 54 points on the first test. Create three Pandas Series objects called `names`, `ages` and `scores` to store the respective data about our five students. How do Pandas Series objects differ from NumPy arrays?"
   ]
  },
  {
   "cell_type": "code",
   "execution_count": 12,
   "metadata": {},
   "outputs": [
    {
     "name": "stdout",
     "output_type": "stream",
     "text": [
      "0    Helena\n",
      "1       Tom\n",
      "2      Nina\n",
      "3       Sam\n",
      "4       Kim\n",
      "dtype: object\n",
      "0    15\n",
      "1    15\n",
      "2    16\n",
      "3    17\n",
      "4    16\n",
      "dtype: int64\n",
      "0    75\n",
      "1    69\n",
      "2    87\n",
      "3    88\n",
      "4    54\n",
      "dtype: int64\n"
     ]
    }
   ],
   "source": [
    "# your code here\n",
    "names = pd.Series(['Helena', 'Tom', 'Nina', 'Sam', 'Kim'])\n",
    "print(names)\n",
    "\n",
    "ages = pd.Series([15, 15, 16, 17, 16])\n",
    "print(ages)\n",
    "\n",
    "scores = pd.Series([75, 69, 87, 88, 54])\n",
    "print(scores)"
   ]
  },
  {
   "cell_type": "markdown",
   "metadata": {},
   "source": [
    "At the heart of Pandas are dataframes, the equivalent to two-dimensional arrays. Let's combine our three Series objects into one dataframe using pd.DataFrame({'name_1': series_1, 'name_2': series_2,...}) and assign it to a variable called `students`. How does the dataframe differ from a two-dimensional array?"
   ]
  },
  {
   "cell_type": "code",
   "execution_count": 13,
   "metadata": {},
   "outputs": [
    {
     "name": "stdout",
     "output_type": "stream",
     "text": [
      "   name_1  age_1  score_1\n",
      "0  Helena     15       75\n",
      "1     Tom     15       69\n",
      "2    Nina     16       87\n",
      "3     Sam     17       88\n",
      "4     Kim     16       54\n"
     ]
    }
   ],
   "source": [
    "# your code here\n",
    "students = pd.DataFrame({'name_1': names, 'age_1': ages, 'score_1': scores})\n",
    "print(students)"
   ]
  },
  {
   "cell_type": "markdown",
   "metadata": {},
   "source": [
    "You can select specific information from your dataframe using the .loc[row_name, column_name] method. Return all rows but only the age column using .loc."
   ]
  },
  {
   "cell_type": "code",
   "execution_count": 15,
   "metadata": {},
   "outputs": [
    {
     "name": "stdout",
     "output_type": "stream",
     "text": [
      "0    15\n",
      "1    15\n",
      "2    16\n",
      "3    17\n",
      "4    16\n",
      "Name: age_1, dtype: int64\n"
     ]
    }
   ],
   "source": [
    "# your code here\n",
    "print(students.loc[:, 'age_1'])"
   ]
  },
  {
   "cell_type": "markdown",
   "metadata": {},
   "source": [
    "We can also use .loc to filter based on certain conditions. For example, if I want to only return Helena's test score, I could write `students.loc[students.name == 'Helena','score']`. Return all information on students with a score higher than 80."
   ]
  },
  {
   "cell_type": "code",
   "execution_count": 19,
   "metadata": {},
   "outputs": [
    {
     "name": "stdout",
     "output_type": "stream",
     "text": [
      "  name_1  age_1  score_1\n",
      "2   Nina     16       87\n",
      "3    Sam     17       88\n"
     ]
    }
   ],
   "source": [
    "# your code here\n",
    "print(students.loc[students.score_1 >= 80, :])"
   ]
  }
 ],
 "metadata": {
  "kernelspec": {
   "display_name": "base",
   "language": "python",
   "name": "python3"
  },
  "language_info": {
   "codemirror_mode": {
    "name": "ipython",
    "version": 3
   },
   "file_extension": ".py",
   "mimetype": "text/x-python",
   "name": "python",
   "nbconvert_exporter": "python",
   "pygments_lexer": "ipython3",
   "version": "3.12.7"
  }
 },
 "nbformat": 4,
 "nbformat_minor": 2
}
