{
 "cells": [
  {
   "cell_type": "markdown",
   "metadata": {},
   "source": [
    "# `DSML_WS_04` - Introduction to Visualization with Matplotlib and Seaborn"
   ]
  },
  {
   "cell_type": "markdown",
   "metadata": {},
   "source": [
    "Please work on the following tasks **before** the fourth workshop session."
   ]
  },
  {
   "cell_type": "markdown",
   "metadata": {},
   "source": [
    "## 1. Analyzing flight data using Pandas"
   ]
  },
  {
   "cell_type": "markdown",
   "metadata": {},
   "source": [
    "Last week, you got to know *the* core data science library in Python - Pandas. Let us put what we learned together in a small real-world case.\n",
    "\n",
    "I have provided you with a small dataset from the City of Cologne, which is publicly available via [this link](https://www.offenedaten-koeln.de/dataset/dienstfluege-co2-stadt-koeln-2019). It contains a summary of all business flights made by employees of the city in 2019. The following information are available:\n",
    "- *unit*: code of the organisational unit responsible for these flights\n",
    "- *origin*: origin airport of the flight route \n",
    "- *destination*: destination airport of the flight route\n",
    "- *flights*: number of flights of this route by the respective organisational unit\n",
    "- *persons*: number of persons from the organisational unit taking this flight route\n",
    "- *CO2*: total CO2 emitted as a result of these flights in kilograms\n",
    "\n",
    "Load the csv file called \"business_flights_cologne_2019.csv\" into a pandas dataframe (note: data is separated by \";\"). Afterwards, use your knowledge of pandas to answer the following questions:\n",
    "1. Is the provided dataset missing data, i. e. are there missing values?\n",
    "2. How many business flights took place in total in 2019?\n",
    "3. How many kilograms of CO2 were emitted as a result of these flights in total in 2019?\n",
    "4. Which flight route emitted most CO2 per flight per person? (hint: you can sort dataframes using `.sort_values(by='column_name', ascending=False)`)\n",
    "5. Which organisational unit flew the most?\n",
    "6. What was the most common destination?"
   ]
  },
  {
   "cell_type": "code",
   "execution_count": null,
   "metadata": {},
   "outputs": [],
   "source": [
    "# your code here\n",
    "import pandas as pd\n",
    "\n",
    "flightInfo = pd.read_csv(\"business_flights_cologne_2019.csv\", sep=\";\")\n",
    "\n",
    "print(flightInfo.info()) # No missing values\n",
    "\n",
    "print(\"Amount of flights in 2019: \" + str(flightInfo[\"flights\"].sum())) \n",
    "\n",
    "print(\"Amount of CO2 emission in 2019: \" + str(flightInfo[\"CO2\"].sum())) \n",
    "\n",
    "# Which routes have the most CO2 emissions?\n",
    "flightInfo[\"CO2/flight/person\"] = (flightInfo[\"CO2\"] / flightInfo[\"flights\"] / flightInfo[\"persons\"]).round(2)\n",
    "print(\"10 most CO2 intensive flights per person:\")\n",
    "print(flightInfo.sort_values(by=\"CO2/flight/person\", ascending=False, inplace=False).head(10))\n",
    "\n",
    "# Which unit has the most flights?\n",
    "flights_by_unit = flightInfo.groupby(\"unit\")[\"flights\"].sum()\n",
    "flights_by_unit = flights_by_unit.sort_values(ascending=False)\n",
    "print(\"10 most units with most flights:\")\n",
    "print(flights_by_unit.head(10))\n",
    "\n",
    "#What are the most popular destinations?\n",
    "destinations = flightInfo.groupby(\"destination\")[\"flights\"].sum()\n",
    "destinations = destinations.sort_values(ascending=False)\n",
    "print(\"10 most popular destinations:\")\n",
    "print(destinations.head(10))\n",
    "\n"
   ]
  },
  {
   "cell_type": "markdown",
   "metadata": {},
   "source": [
    "## 2. Getting started with Matplotlib"
   ]
  },
  {
   "cell_type": "markdown",
   "metadata": {},
   "source": [
    "This week, we will be using Python to visualize data. The library we will be using for this is called Matplotlib.\n",
    "\n",
    "As always, we first have to import Matplotlib to use its functionalities within this Jupyter notebook. Execute the following cell to continue."
   ]
  },
  {
   "cell_type": "code",
   "execution_count": null,
   "metadata": {},
   "outputs": [],
   "source": [
    "import matplotlib as mpl\n",
    "import matplotlib.pyplot as plt\n",
    "%matplotlib inline"
   ]
  },
  {
   "cell_type": "markdown",
   "metadata": {},
   "source": [
    "Now let us create some data to visualize. Think about last week (Monday to Sunday). How many steps did you do per day? If you have a tracker like a smartwatch you could check the exact values, or just come up with some hypothetical values. Create a list of strings for each weekday (i.e., [\"Mon\", \"Tue\",...]) and assign it to a variable called `weekdays`. Create a second list with your daily step counts from Monday to Sunday and assign it to a variable called `steps`."
   ]
  },
  {
   "cell_type": "code",
   "execution_count": null,
   "metadata": {},
   "outputs": [],
   "source": [
    "# your code here\n",
    "weekdays = [\"Monday\", \"Tuesday\", \"Wednesday\", \"Thursday\", \"Friday\", \"Saturday\", \"Sunday\"]\n",
    "steps = [1000, 20, 30, 400, 50, 60, 70]"
   ]
  },
  {
   "cell_type": "markdown",
   "metadata": {},
   "source": [
    "Let us plot our daily steps using Matplotlib. The function to create a simple line plot is `plt.plot(x_values, y_values)`. After plt.plot(...), write plt.show() to print the plot below the cell. Create and print the plot below."
   ]
  },
  {
   "cell_type": "code",
   "execution_count": null,
   "metadata": {},
   "outputs": [],
   "source": [
    "# your code here\n",
    "plt.plot(weekdays, steps)\n",
    "plt.title(\"Steps per Weekdays\")\n",
    "plt.show()"
   ]
  },
  {
   "cell_type": "markdown",
   "metadata": {},
   "source": [
    "One commonly set goal is to reach 10.000 steps per day. Let's add the 10.000 daily steps target to our plot. Repeat your code from before, but before calling plt.show(), write plt.plot(...) with weekdays as x_values and 7 times 10000 as y_values."
   ]
  },
  {
   "cell_type": "code",
   "execution_count": null,
   "metadata": {},
   "outputs": [],
   "source": [
    "# your code here\n",
    "goal = 10000\n",
    "plt.plot(weekdays, [goal] * len(weekdays), label=\"Goal\")\n",
    "plt.plot(weekdays, steps, label=\"Steps\")\n",
    "plt.legend()\n",
    "plt.title(\"Steps per Weekdays v Goal\")\n",
    "plt.xlabel(\"Weekdays\")\n",
    "plt.ylabel(\"Steps\")\n",
    "plt.show()"
   ]
  },
  {
   "cell_type": "markdown",
   "metadata": {},
   "source": [
    "Now we have two lines: one for our actual daily steps, and one for the daily target of 10.000 steps. Let us add a legend to our plot to include this information. Do this by including the label parameter in each of your plt.plot() functions (e.g., `plt.plot(..., label=\"label\")`), and call `plt.legend()` before plt.show()."
   ]
  },
  {
   "cell_type": "markdown",
   "metadata": {},
   "source": [
    "Finally, let's add a title and labels for the x-axis and y-axis. We can do so by calling `plt.title(\"title\")`, `plt.xlabel(\"xlabel\")`, and `plt.ylabel(\"ylabel\")` before plt.show(). Create a final version of your plot with corresponding title and labels below."
   ]
  }
 ],
 "metadata": {
  "kernelspec": {
   "display_name": "base",
   "language": "python",
   "name": "python3"
  },
  "language_info": {
   "codemirror_mode": {
    "name": "ipython",
    "version": 3
   },
   "file_extension": ".py",
   "mimetype": "text/x-python",
   "name": "python",
   "nbconvert_exporter": "python",
   "pygments_lexer": "ipython3",
   "version": "3.12.7"
  }
 },
 "nbformat": 4,
 "nbformat_minor": 2
}
